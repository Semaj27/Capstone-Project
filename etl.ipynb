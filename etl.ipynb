{
 "cells": [
  {
   "cell_type": "code",
   "execution_count": 1,
   "metadata": {},
   "outputs": [],
   "source": [
    "import findspark\n",
    "findspark.init()\n",
    "\n",
    "from pyspark.sql import SparkSession\n",
    "from pyspark.sql.functions import*\n",
    "\n",
    "from pyspark.sql.types import StructType, StructField, StringType, IntegerType, BooleanType, DoubleType\n",
    "\n",
    "import pandas as pd\n",
    "\n",
    "spark = SparkSession.builder.master(\"local[*]\").appName(\"Capstone\").getOrCreate()"
   ]
  },
  {
   "attachments": {},
   "cell_type": "markdown",
   "metadata": {},
   "source": [
    "Python and PySpark SQL program to read/extract the following JSON files according to the specifications"
   ]
  },
  {
   "cell_type": "code",
   "execution_count": 22,
   "metadata": {},
   "outputs": [
    {
     "name": "stdout",
     "output_type": "stream",
     "text": [
      "+---------+----------+-----------+---------+----------------+--------------------+------------+----------+-------------+--------+--------------------+----------------------+--------------------+\n",
      "|      SSN|FIRST_NAME|MIDDLE_NAME|LAST_NAME|  Credit_card_no|             ADDRESS|   CUST_CITY|CUST_STATE| CUST_COUNTRY|CUST_ZIP|          CUST_EMAIL|FORMATTED_PHONE_NUMBER|        LAST_UPDATED|\n",
      "+---------+----------+-----------+---------+----------------+--------------------+------------+----------+-------------+--------+--------------------+----------------------+--------------------+\n",
      "|123456100|      Alec|         wm|   Hooper|4210653310061055|656, Main Street ...|     Natchez|        MS|United States|   39120| AHooper@example.com|         (678)123-7818|2018-04-21T12:49:...|\n",
      "|123453023|      Etta|    brendan|   Holman|4210653310102868|  829, Redwood Drive|Wethersfield|        CT|United States|   06109| EHolman@example.com|         (678)123-8933|2018-04-21T12:49:...|\n",
      "|123454487|    Wilber|   ezequiel|   Dunham|4210653310116272|683, 12th Street ...|     Huntley|        IL|United States|   60142| WDunham@example.com|         (678)124-3018|2018-04-21T12:49:...|\n",
      "|123459758|   Eugenio|      trina|    Hardy|4210653310195948|253, Country Club...|   NewBerlin|        WI|United States|   53151|  EHardy@example.com|         (678)124-3215|2018-04-21T12:49:...|\n",
      "|123454431|   Wilfred|        may|    Ayers|4210653310356919| 301, Madison Street|      ElPaso|        TX|United States|   79930|  WAyers@example.com|         (678)124-2074|2018-04-21T12:49:...|\n",
      "|123454202|      Beau|    ambrose|  Woodard|4210653310395982|   3, Colonial Drive|NorthOlmsted|        OH|United States|   44070|BWoodard@example.com|         (678)124-2570|2018-04-21T12:49:...|\n",
      "|123451799|    Sheila|      larry|     Kemp|4210653310400536|  84, Belmont Avenue|      Vienna|        VA|United States|   22180|   SKemp@example.com|         (678)123-9685|2018-04-21T12:49:...|\n",
      "|123453875|     Wendy|        ora|   Hurley|4210653310459911|   728, Oxford Court|      Duarte|        CA|United States|   91010| WHurley@example.com|         (678)123-8213|2018-04-21T12:49:...|\n",
      "|123457511|      Alec|     tracie|  Gilmore|4210653310773972|   81, Forest Street|      Owosso|        MI|United States|   48867|AGilmore@example.com|         (678)124-0689|2018-04-21T12:49:...|\n",
      "|123457464|    Barbra|    mitchel|      Lau|4210653310794854|   561, Court Street|        Zion|        IL|United States|   60099|    BLau@example.com|         (678)123-5222|2018-04-21T12:49:...|\n",
      "|123457639|   Edmundo|      denny|  Thomson|4210653310817373|  622, Cypress Court|  Youngstown|        OH|United States|   44512|EThomson@example.com|         (678)124-1363|2018-04-21T12:49:...|\n",
      "|123453242|      Elsa|   isabelle|   Truong|4210653310844617|924, 8th Street West| Summerville|        SC|United States|   29483| ETruong@example.com|         (678)123-6228|2018-04-21T12:49:...|\n",
      "|123454339|     Homer|      henry| Mckinney|4210653311015303|    611, East Avenue|      ElPaso|        TX|United States|   79930|HMckinney@example...|         (678)123-8165|2018-04-21T12:49:...|\n",
      "|123454537|      Rita|     rickey|     Kidd|4210653311215039|       680, Route 44|      Fenton|        MI|United States|   48430|   RKidd@example.com|         (678)123-4730|2018-04-21T12:49:...|\n",
      "|123452373|    Amalia|  heriberto|  Ballard|4210653311229354|   71, Warren Street|  Grandville|        MI|United States|   49418|ABallard@example.com|         (678)124-2113|2018-04-21T12:49:...|\n",
      "|123455343|     Patty|   angelita|   Thomas|4210653311652836|   195, Jones Street|    YubaCity|        CA|United States|   95993| PThomas@example.com|         (678)123-9888|2018-04-21T12:49:...|\n",
      "|123451533|  Josefina|   dorothea|   Morrow|4210653311707126|     500, New Street|   CapeCoral|        FL|United States|   33904| JMorrow@example.com|         (678)124-0158|2018-04-21T12:49:...|\n",
      "|123459278|    Nelson|  jefferson|  Andrews|4210653311730764|989, Division Street|  Brookfield|        WI|United States|   53045|NAndrews@example.com|         (678)124-1408|2018-04-21T12:49:...|\n",
      "|123456915|    Miquel|     maximo|Schneider|4210653311898082|   810, Maple Street|    Richmond|        VA|United States|   23223|MSchneider@exampl...|         (678)123-8390|2018-04-21T12:49:...|\n",
      "|123453807|    Parker|    arnulfo|  Tidwell|4210653312021765|     649, Eagle Road| WestChester|        PA|United States|   19380|PTidwell@example.com|         (678)123-5067|2018-04-21T12:49:...|\n",
      "+---------+----------+-----------+---------+----------------+--------------------+------------+----------+-------------+--------+--------------------+----------------------+--------------------+\n",
      "only showing top 20 rows\n",
      "\n"
     ]
    }
   ],
   "source": [
    "# Load the JSON file into a PySpark SQL dataframe\n",
    "credit_cards = spark.read.json(\"json_files\\cdw_sapp_custmer.json\")\n",
    "\n",
    "# Add \"678\" at the beginning of the phone number\n",
    "new_phone_number = concat(lit(\"678\"), col(\"CUST_PHONE\"))\n",
    "\n",
    "# Format the phone number into (XXX)XXX-XXXX format\n",
    "formatted_phone_number = concat(lit(\"(\"), substring(new_phone_number, 1, 3), lit(\")\"),\n",
    "                        substring(new_phone_number, 4, 3), lit(\"-\"),\n",
    "                        substring(new_phone_number, 7, 4))\n",
    "\n",
    "#adds the new number to credit_cards\n",
    "credit_cards = credit_cards.withColumn(\"FORMATTED_PHONE_NUMBER\", formatted_phone_number)\n",
    "\n",
    "# Select the required fields from the dataframe and transform data\n",
    "CDW_SAPP_CUSTOMER = credit_cards.select(\"SSN\",\n",
    "                                        initcap(\"FIRST_NAME\").alias(\"FIRST_NAME\"),\n",
    "                                        lower(\"MIDDLE_NAME\").alias(\"MIDDLE_NAME\"),\n",
    "                                        initcap(\"LAST_NAME\").alias(\"LAST_NAME\"), \n",
    "                                        \"Credit_card_no\",\n",
    "                                        concat( \"APT_NO\", lit(\", \"), \"STREET_NAME\").alias(\"ADDRESS\"),\n",
    "                                        \"CUST_CITY\", \"CUST_STATE\", \"CUST_COUNTRY\", \"CUST_ZIP\",\n",
    "                                        \"CUST_EMAIL\",\"FORMATTED_PHONE_NUMBER\", \"LAST_UPDATED\")\n",
    "\n",
    "CDW_SAPP_CUSTOMER.show()"
   ]
  }
 ],
 "metadata": {
  "kernelspec": {
   "display_name": "Python 3",
   "language": "python",
   "name": "python3"
  },
  "language_info": {
   "codemirror_mode": {
    "name": "ipython",
    "version": 3
   },
   "file_extension": ".py",
   "mimetype": "text/x-python",
   "name": "python",
   "nbconvert_exporter": "python",
   "pygments_lexer": "ipython3",
   "version": "3.9.6"
  },
  "orig_nbformat": 4,
  "vscode": {
   "interpreter": {
    "hash": "11938c6bc6919ae2720b4d5011047913343b08a43b18698fd82dedb0d4417594"
   }
  }
 },
 "nbformat": 4,
 "nbformat_minor": 2
}
