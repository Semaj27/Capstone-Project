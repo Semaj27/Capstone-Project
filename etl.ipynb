{
 "cells": [
  {
   "cell_type": "code",
   "execution_count": 1,
   "metadata": {},
   "outputs": [],
   "source": [
    "import findspark\n",
    "findspark.init()\n",
    "\n",
    "from pyspark.sql import SparkSession\n",
    "from pyspark.sql.functions import*\n",
    "\n",
    "from pyspark.sql.types import StructType, StructField, StringType, IntegerType, BooleanType, DoubleType\n",
    "\n",
    "import pandas as pd\n",
    "\n",
    "spark = SparkSession.builder.master(\"local[*]\").appName(\"Capstone\").getOrCreate()"
   ]
  },
  {
   "attachments": {},
   "cell_type": "markdown",
   "metadata": {},
   "source": [
    "CDW_SAPP_CUSTMER.JSON extracted and transformed "
   ]
  },
  {
   "cell_type": "code",
   "execution_count": 22,
   "metadata": {},
   "outputs": [
    {
     "name": "stdout",
     "output_type": "stream",
     "text": [
      "+---------+----------+-----------+---------+----------------+--------------------+---------+----------+-------------+--------+-------------------+----------------------+--------------------+\n",
      "|      SSN|FIRST_NAME|MIDDLE_NAME|LAST_NAME|  Credit_card_no|             ADDRESS|CUST_CITY|CUST_STATE| CUST_COUNTRY|CUST_ZIP|         CUST_EMAIL|FORMATTED_PHONE_NUMBER|        LAST_UPDATED|\n",
      "+---------+----------+-----------+---------+----------------+--------------------+---------+----------+-------------+--------+-------------------+----------------------+--------------------+\n",
      "|123456100|      Alec|         wm|   Hooper|4210653310061055|656, Main Street ...|  Natchez|        MS|United States|   39120|AHooper@example.com|         (678)123-7818|2018-04-21T12:49:...|\n",
      "+---------+----------+-----------+---------+----------------+--------------------+---------+----------+-------------+--------+-------------------+----------------------+--------------------+\n",
      "only showing top 1 row\n",
      "\n"
     ]
    }
   ],
   "source": [
    "# Load the JSON file into a PySpark SQL dataframe\n",
    "credit_cards_df = spark.read.json(\"json_files\\cdw_sapp_custmer.json\")\n",
    "\n",
    "# Add \"678\" at the beginning of the phone number\n",
    "new_phone_number = concat(lit(\"678\"), col(\"CUST_PHONE\"))\n",
    "\n",
    "# Format the phone number into (XXX)XXX-XXXX format\n",
    "formatted_phone_number = concat(lit(\"(\"), substring(new_phone_number, 1, 3), lit(\")\"),\n",
    "                        substring(new_phone_number, 4, 3), lit(\"-\"),\n",
    "                        substring(new_phone_number, 7, 4))\n",
    "\n",
    "#adds the new number to credit_cards\n",
    "credit_cards_df = credit_cards_df.withColumn(\"FORMATTED_PHONE_NUMBER\", formatted_phone_number)\n",
    "\n",
    "# Select the required fields from the dataframe and transform data\n",
    "CDW_SAPP_CUSTOMER = credit_cards_df.select(\"SSN\",\n",
    "                                        initcap(\"FIRST_NAME\").alias(\"FIRST_NAME\"),\n",
    "                                        lower(\"MIDDLE_NAME\").alias(\"MIDDLE_NAME\"),\n",
    "                                        initcap(\"LAST_NAME\").alias(\"LAST_NAME\"), \n",
    "                                        \"Credit_card_no\",\n",
    "                                        concat( \"APT_NO\", lit(\", \"), \"STREET_NAME\").alias(\"ADDRESS\"),\n",
    "                                        \"CUST_CITY\", \"CUST_STATE\", \"CUST_COUNTRY\", \"CUST_ZIP\",\n",
    "                                        \"CUST_EMAIL\",\"FORMATTED_PHONE_NUMBER\", \"LAST_UPDATED\")\n",
    "\n",
    "CDW_SAPP_CUSTOMER.show(1)\n"
   ]
  },
  {
   "attachments": {},
   "cell_type": "markdown",
   "metadata": {},
   "source": [
    "CDW_SAPP_CREDIT.JSON extracted and transformed "
   ]
  },
  {
   "cell_type": "code",
   "execution_count": 20,
   "metadata": {},
   "outputs": [
    {
     "name": "stdout",
     "output_type": "stream",
     "text": [
      "+----------------+--------+---------+-----------+----------------+-----------------+--------------+\n",
      "|  CREDIT_CARD_NO|  TIMEID| CUST_SSN|BRANCH_CODE|TRANSACTION_TYPE|TRANSACTION_VALUE|TRANSACTION_ID|\n",
      "+----------------+--------+---------+-----------+----------------+-----------------+--------------+\n",
      "|4210653349028689|20180214|123459988|        114|       Education|             78.9|             1|\n",
      "|4210653349028689|20180320|123459988|         35|   Entertainment|            14.24|             2|\n",
      "|4210653349028689|20180708|123459988|        160|         Grocery|             56.7|             3|\n",
      "|4210653349028689|20180419|123459988|        114|   Entertainment|            59.73|             4|\n",
      "|4210653349028689|20181010|123459988|         93|             Gas|             3.59|             5|\n",
      "|4210653349028689|20180528|123459988|        164|       Education|             6.89|             6|\n",
      "|4210653349028689|20180519|123459988|        119|   Entertainment|            43.39|             7|\n",
      "|4210653349028689|20180808|123459988|         23|             Gas|            95.39|             8|\n",
      "|4210653349028689|20180318|123459988|        166|   Entertainment|            93.26|             9|\n",
      "|4210653349028689|20180903|123459988|         83|           Bills|           100.38|            10|\n",
      "|4210653349028689|20180821|123459988|         52|             Gas|            98.75|            11|\n",
      "|4210653349028689|20181224|123459988|         17|             Gas|            42.71|            12|\n",
      "|4210653349028689|20180403|123459988|         80|         Grocery|            40.24|            13|\n",
      "|4210653349028689|20180415|123459988|         50|           Bills|            17.81|            14|\n",
      "|4210653349028689|20180517|123459988|        123|           Bills|             29.0|            15|\n",
      "|4210653349028689|20180706|123459988|          9|            Test|            70.63|            16|\n",
      "|4210653349028689|20180928|123459988|          3|            Test|            27.04|            17|\n",
      "|4210653349028689|20180704|123459988|        135|   Entertainment|            88.75|            18|\n",
      "|4210653349028689|20180424|123459988|        103|            Test|            77.02|            19|\n",
      "|4210653349028689|20181008|123459988|         78|           Bills|            34.34|            20|\n",
      "+----------------+--------+---------+-----------+----------------+-----------------+--------------+\n",
      "only showing top 20 rows\n",
      "\n"
     ]
    }
   ],
   "source": [
    "# Load the JSON file into a PySpark SQL dataframe\n",
    "credit_cards_df2 = spark.read.json(\"json_files\\cdw_sapp_credit.json\")\n",
    "\n",
    "# Convert DAY, MONTH, YEAR to TIMEID in YYYYMMDD format\n",
    "timeid = concat(col(\"YEAR\"), lpad(col(\"MONTH\"), 2, \"0\"), lpad(col(\"DAY\"), 2, \"0\"))\n",
    "credit_cards_df2 = credit_cards_df2.withColumn(\"TIMEID\", timeid)\n",
    "\n",
    "# Select the required fields from the dataframe and transform data\n",
    "CDW_SAPP_CREDIT = credit_cards_df2.select(\"CREDIT_CARD_NO\", \"TIMEID\", \"CUST_SSN\", \"BRANCH_CODE\",\n",
    "                                          \"TRANSACTION_TYPE\", \"TRANSACTION_VALUE\", \"TRANSACTION_ID\")\n",
    "\n",
    "CDW_SAPP_CREDIT.show()\n"
   ]
  },
  {
   "attachments": {},
   "cell_type": "markdown",
   "metadata": {},
   "source": [
    "CDW_SAPP_BRANCH.JSON extracted and transformed "
   ]
  },
  {
   "cell_type": "code",
   "execution_count": 23,
   "metadata": {},
   "outputs": [
    {
     "name": "stdout",
     "output_type": "stream",
     "text": [
      "+-----------+------------+-------------------+-----------------+------------+--------------+-------------+--------------------+\n",
      "|BRANCH_CODE| BRANCH_NAME|      BRANCH_STREET|      BRANCH_CITY|BRANCH_STATE|BRANCH_ZIP_NEW| BRANCH_PHONE|        LAST_UPDATED|\n",
      "+-----------+------------+-------------------+-----------------+------------+--------------+-------------+--------------------+\n",
      "|          1|Example Bank|       Bridle Court|        Lakeville|          MN|         55044|(123)456-5276|2018-04-18T16:51:...|\n",
      "|          2|Example Bank|  Washington Street|          Huntley|          IL|         60142|(123)461-8993|2018-04-18T16:51:...|\n",
      "|          3|Example Bank|      Warren Street|SouthRichmondHill|          NY|         11419|(123)498-5926|2018-04-18T16:51:...|\n",
      "|          4|Example Bank|   Cleveland Street|       Middleburg|          FL|         32068|(123)466-3064|2018-04-18T16:51:...|\n",
      "|          5|Example Bank|        14th Street|    KingOfPrussia|          PA|         19406|(123)484-9701|2018-04-18T16:51:...|\n",
      "|          7|Example Bank|   Jefferson Street|         Paterson|          NJ|          7501|(123)414-4890|2018-04-18T16:51:...|\n",
      "|          8|Example Bank|           B Street|        Pittsford|          NY|         14534|(123)467-8272|2018-04-18T16:51:...|\n",
      "|          9|Example Bank|    Jefferson Court|     Wethersfield|          CT|          6109|(123)467-5219|2018-04-18T16:51:...|\n",
      "|         10|Example Bank|     Cambridge Road|     NorthOlmsted|          OH|         44070|(123)414-5047|2018-04-18T16:51:...|\n",
      "|         11|Example Bank|    3rd Street West|     Hillsborough|          NJ|          8844|(123)436-6354|2018-04-18T16:51:...|\n",
      "|         12|Example Bank|          Mill Road|   MadisonHeights|          MI|         48071|(123)486-7175|2018-04-18T16:51:...|\n",
      "|         14|Example Bank|  Washington Street|           Oviedo|          FL|         32765|(123)493-8460|2018-04-18T16:51:...|\n",
      "|         15|Example Bank|    Chestnut Street|    Mechanicsburg|          PA|         17050|(123)446-2043|2018-04-18T16:51:...|\n",
      "|         16|Example Bank|       Monroe Drive|        Plainview|          NY|         11803|(123)485-7525|2018-04-18T16:51:...|\n",
      "|         17|Example Bank|    Railroad Street|          Paducah|          KY|         42001|(123)454-6360|2018-04-18T16:51:...|\n",
      "|         18|Example Bank|Church Street South|     Harleysville|          PA|         19438|(123)482-4455|2018-04-18T16:51:...|\n",
      "|         19|Example Bank|        King Street|     SilverSpring|          MD|         20901|(123)448-4380|2018-04-18T16:51:...|\n",
      "|         20|Example Bank|   Canterbury Drive|       Burnsville|          MN|         55337|(123)484-0138|2018-04-18T16:51:...|\n",
      "|         21|Example Bank|         2nd Avenue|           Tacoma|          WA|         98444|(123)436-2433|2018-04-18T16:51:...|\n",
      "|         22|Example Bank| Front Street South|         Carlisle|          PA|         17013|(123)492-2492|2018-04-18T16:51:...|\n",
      "+-----------+------------+-------------------+-----------------+------------+--------------+-------------+--------------------+\n",
      "only showing top 20 rows\n",
      "\n"
     ]
    }
   ],
   "source": [
    "# Load the JSON file into a PySpark SQL dataframe\n",
    "credit_cards_df3 = spark.read.json(\"json_files\\cdw_sapp_branch.json\")\n",
    "\n",
    "# Add \"678\" at the beginning of the phone number\n",
    "new_phone_number2 = col(\"BRANCH_PHONE\")\n",
    "\n",
    "# Format the phone number into (XXX)XXX-XXXX format\n",
    "formatted_phone_number2 = concat(lit(\"(\"), substring(new_phone_number2, 1, 3), lit(\")\"),\n",
    "                        substring(new_phone_number2, 4, 3), lit(\"-\"),\n",
    "                        substring(new_phone_number2, 7, 4))\n",
    "\n",
    "#adds the new number to credit_cards\n",
    "credit_cards_df3 = credit_cards_df3.withColumn(\"BRANCH_PHONE\", formatted_phone_number2)\n",
    "\n",
    "# Add a new column 'BRANCH_ZIP_NEW' based on the value of 'BRANCH_ZIP'\n",
    "credit_cards_df3 = credit_cards_df3.withColumn(\n",
    "    \"BRANCH_ZIP_NEW\",\n",
    "    when(col(\"BRANCH_ZIP\").isNull(), \"00000\").otherwise(col(\"BRANCH_ZIP\"))\n",
    ")\n",
    "\n",
    "# Select the required fields from the dataframe and transform data\n",
    "CDW_SAPP_BRANCH = credit_cards_df3.select(\"BRANCH_CODE\",\"BRANCH_NAME\",\"BRANCH_STREET\",\n",
    "                                          \"BRANCH_CITY\",\"BRANCH_STATE\",\"BRANCH_ZIP_NEW\",\n",
    "                                          \"BRANCH_PHONE\",\"LAST_UPDATED\")\n",
    "\n",
    "CDW_SAPP_BRANCH.show()"
   ]
  },
  {
   "attachments": {},
   "cell_type": "markdown",
   "metadata": {},
   "source": [
    "load CDW_SAPP_CUSTOMER into the creditcard_capstone MariaDB database "
   ]
  },
  {
   "cell_type": "code",
   "execution_count": 24,
   "metadata": {},
   "outputs": [
    {
     "name": "stdout",
     "output_type": "stream",
     "text": [
      "+---------+----------+-----------+---------+----------------+--------------------+------------+----------+-------------+--------+--------------------+----------------------+--------------------+\n",
      "|      SSN|FIRST_NAME|MIDDLE_NAME|LAST_NAME|  Credit_card_no|             ADDRESS|   CUST_CITY|CUST_STATE| CUST_COUNTRY|CUST_ZIP|          CUST_EMAIL|FORMATTED_PHONE_NUMBER|        LAST_UPDATED|\n",
      "+---------+----------+-----------+---------+----------------+--------------------+------------+----------+-------------+--------+--------------------+----------------------+--------------------+\n",
      "|123456100|      Alec|         wm|   Hooper|4210653310061055|656, Main Street ...|     Natchez|        MS|United States|   39120| AHooper@example.com|         (678)123-7818|2018-04-21T12:49:...|\n",
      "|123453023|      Etta|    brendan|   Holman|4210653310102868|  829, Redwood Drive|Wethersfield|        CT|United States|   06109| EHolman@example.com|         (678)123-8933|2018-04-21T12:49:...|\n",
      "|123454487|    Wilber|   ezequiel|   Dunham|4210653310116272|683, 12th Street ...|     Huntley|        IL|United States|   60142| WDunham@example.com|         (678)124-3018|2018-04-21T12:49:...|\n",
      "|123459758|   Eugenio|      trina|    Hardy|4210653310195948|253, Country Club...|   NewBerlin|        WI|United States|   53151|  EHardy@example.com|         (678)124-3215|2018-04-21T12:49:...|\n",
      "|123454431|   Wilfred|        may|    Ayers|4210653310356919| 301, Madison Street|      ElPaso|        TX|United States|   79930|  WAyers@example.com|         (678)124-2074|2018-04-21T12:49:...|\n",
      "|123454202|      Beau|    ambrose|  Woodard|4210653310395982|   3, Colonial Drive|NorthOlmsted|        OH|United States|   44070|BWoodard@example.com|         (678)124-2570|2018-04-21T12:49:...|\n",
      "|123451799|    Sheila|      larry|     Kemp|4210653310400536|  84, Belmont Avenue|      Vienna|        VA|United States|   22180|   SKemp@example.com|         (678)123-9685|2018-04-21T12:49:...|\n",
      "|123453875|     Wendy|        ora|   Hurley|4210653310459911|   728, Oxford Court|      Duarte|        CA|United States|   91010| WHurley@example.com|         (678)123-8213|2018-04-21T12:49:...|\n",
      "|123457511|      Alec|     tracie|  Gilmore|4210653310773972|   81, Forest Street|      Owosso|        MI|United States|   48867|AGilmore@example.com|         (678)124-0689|2018-04-21T12:49:...|\n",
      "|123457464|    Barbra|    mitchel|      Lau|4210653310794854|   561, Court Street|        Zion|        IL|United States|   60099|    BLau@example.com|         (678)123-5222|2018-04-21T12:49:...|\n",
      "|123457639|   Edmundo|      denny|  Thomson|4210653310817373|  622, Cypress Court|  Youngstown|        OH|United States|   44512|EThomson@example.com|         (678)124-1363|2018-04-21T12:49:...|\n",
      "|123453242|      Elsa|   isabelle|   Truong|4210653310844617|924, 8th Street West| Summerville|        SC|United States|   29483| ETruong@example.com|         (678)123-6228|2018-04-21T12:49:...|\n",
      "|123454339|     Homer|      henry| Mckinney|4210653311015303|    611, East Avenue|      ElPaso|        TX|United States|   79930|HMckinney@example...|         (678)123-8165|2018-04-21T12:49:...|\n",
      "|123454537|      Rita|     rickey|     Kidd|4210653311215039|       680, Route 44|      Fenton|        MI|United States|   48430|   RKidd@example.com|         (678)123-4730|2018-04-21T12:49:...|\n",
      "|123452373|    Amalia|  heriberto|  Ballard|4210653311229354|   71, Warren Street|  Grandville|        MI|United States|   49418|ABallard@example.com|         (678)124-2113|2018-04-21T12:49:...|\n",
      "|123455343|     Patty|   angelita|   Thomas|4210653311652836|   195, Jones Street|    YubaCity|        CA|United States|   95993| PThomas@example.com|         (678)123-9888|2018-04-21T12:49:...|\n",
      "|123451533|  Josefina|   dorothea|   Morrow|4210653311707126|     500, New Street|   CapeCoral|        FL|United States|   33904| JMorrow@example.com|         (678)124-0158|2018-04-21T12:49:...|\n",
      "|123459278|    Nelson|  jefferson|  Andrews|4210653311730764|989, Division Street|  Brookfield|        WI|United States|   53045|NAndrews@example.com|         (678)124-1408|2018-04-21T12:49:...|\n",
      "|123456915|    Miquel|     maximo|Schneider|4210653311898082|   810, Maple Street|    Richmond|        VA|United States|   23223|MSchneider@exampl...|         (678)123-8390|2018-04-21T12:49:...|\n",
      "|123453807|    Parker|    arnulfo|  Tidwell|4210653312021765|     649, Eagle Road| WestChester|        PA|United States|   19380|PTidwell@example.com|         (678)123-5067|2018-04-21T12:49:...|\n",
      "+---------+----------+-----------+---------+----------------+--------------------+------------+----------+-------------+--------+--------------------+----------------------+--------------------+\n",
      "only showing top 20 rows\n",
      "\n"
     ]
    }
   ],
   "source": [
    "CDW_SAPP_CUSTOMER.write.format(\"jdbc\").options(driver=\"com.mysql.cj.jdbc.Driver\",\\\n",
    "                                user=\"root\",\\\n",
    "                                password=\"password\",\\\n",
    "                                url=\"jdbc:mysql://localhost:3306/creditcard_capstone\",\\\n",
    "                                dbtable=\"creditcard_capstone.CDW_SAPP_CUSTOMER\").save()\n",
    "\n",
    "CDW_SAPP_CUSTOMER.show()"
   ]
  },
  {
   "attachments": {},
   "cell_type": "markdown",
   "metadata": {},
   "source": [
    "load CDW_SAPP_BRANCH into the creditcard_capstone MariaDB database "
   ]
  },
  {
   "cell_type": "code",
   "execution_count": 25,
   "metadata": {},
   "outputs": [
    {
     "name": "stdout",
     "output_type": "stream",
     "text": [
      "+-----------+------------+-------------------+-----------------+------------+--------------+-------------+--------------------+\n",
      "|BRANCH_CODE| BRANCH_NAME|      BRANCH_STREET|      BRANCH_CITY|BRANCH_STATE|BRANCH_ZIP_NEW| BRANCH_PHONE|        LAST_UPDATED|\n",
      "+-----------+------------+-------------------+-----------------+------------+--------------+-------------+--------------------+\n",
      "|          1|Example Bank|       Bridle Court|        Lakeville|          MN|         55044|(123)456-5276|2018-04-18T16:51:...|\n",
      "|          2|Example Bank|  Washington Street|          Huntley|          IL|         60142|(123)461-8993|2018-04-18T16:51:...|\n",
      "|          3|Example Bank|      Warren Street|SouthRichmondHill|          NY|         11419|(123)498-5926|2018-04-18T16:51:...|\n",
      "|          4|Example Bank|   Cleveland Street|       Middleburg|          FL|         32068|(123)466-3064|2018-04-18T16:51:...|\n",
      "|          5|Example Bank|        14th Street|    KingOfPrussia|          PA|         19406|(123)484-9701|2018-04-18T16:51:...|\n",
      "|          7|Example Bank|   Jefferson Street|         Paterson|          NJ|          7501|(123)414-4890|2018-04-18T16:51:...|\n",
      "|          8|Example Bank|           B Street|        Pittsford|          NY|         14534|(123)467-8272|2018-04-18T16:51:...|\n",
      "|          9|Example Bank|    Jefferson Court|     Wethersfield|          CT|          6109|(123)467-5219|2018-04-18T16:51:...|\n",
      "|         10|Example Bank|     Cambridge Road|     NorthOlmsted|          OH|         44070|(123)414-5047|2018-04-18T16:51:...|\n",
      "|         11|Example Bank|    3rd Street West|     Hillsborough|          NJ|          8844|(123)436-6354|2018-04-18T16:51:...|\n",
      "|         12|Example Bank|          Mill Road|   MadisonHeights|          MI|         48071|(123)486-7175|2018-04-18T16:51:...|\n",
      "|         14|Example Bank|  Washington Street|           Oviedo|          FL|         32765|(123)493-8460|2018-04-18T16:51:...|\n",
      "|         15|Example Bank|    Chestnut Street|    Mechanicsburg|          PA|         17050|(123)446-2043|2018-04-18T16:51:...|\n",
      "|         16|Example Bank|       Monroe Drive|        Plainview|          NY|         11803|(123)485-7525|2018-04-18T16:51:...|\n",
      "|         17|Example Bank|    Railroad Street|          Paducah|          KY|         42001|(123)454-6360|2018-04-18T16:51:...|\n",
      "|         18|Example Bank|Church Street South|     Harleysville|          PA|         19438|(123)482-4455|2018-04-18T16:51:...|\n",
      "|         19|Example Bank|        King Street|     SilverSpring|          MD|         20901|(123)448-4380|2018-04-18T16:51:...|\n",
      "|         20|Example Bank|   Canterbury Drive|       Burnsville|          MN|         55337|(123)484-0138|2018-04-18T16:51:...|\n",
      "|         21|Example Bank|         2nd Avenue|           Tacoma|          WA|         98444|(123)436-2433|2018-04-18T16:51:...|\n",
      "|         22|Example Bank| Front Street South|         Carlisle|          PA|         17013|(123)492-2492|2018-04-18T16:51:...|\n",
      "+-----------+------------+-------------------+-----------------+------------+--------------+-------------+--------------------+\n",
      "only showing top 20 rows\n",
      "\n"
     ]
    }
   ],
   "source": [
    "CDW_SAPP_BRANCH.write.format(\"jdbc\").options(driver=\"com.mysql.cj.jdbc.Driver\",\\\n",
    "                                user=\"root\",\\\n",
    "                                password=\"password\",\\\n",
    "                                url=\"jdbc:mysql://localhost:3306/creditcard_capstone\",\\\n",
    "                                dbtable=\"creditcard_capstone.CDW_SAPP_BRANCH\").save()\n",
    "\n",
    "CDW_SAPP_BRANCH.show()"
   ]
  },
  {
   "attachments": {},
   "cell_type": "markdown",
   "metadata": {},
   "source": [
    "load CDW_SAPP_CREDIT into the creditcard_capstone MariaDB database "
   ]
  },
  {
   "cell_type": "code",
   "execution_count": 26,
   "metadata": {},
   "outputs": [
    {
     "name": "stdout",
     "output_type": "stream",
     "text": [
      "+----------------+--------+---------+-----------+----------------+-----------------+--------------+\n",
      "|  CREDIT_CARD_NO|  TIMEID| CUST_SSN|BRANCH_CODE|TRANSACTION_TYPE|TRANSACTION_VALUE|TRANSACTION_ID|\n",
      "+----------------+--------+---------+-----------+----------------+-----------------+--------------+\n",
      "|4210653349028689|20180214|123459988|        114|       Education|             78.9|             1|\n",
      "|4210653349028689|20180320|123459988|         35|   Entertainment|            14.24|             2|\n",
      "|4210653349028689|20180708|123459988|        160|         Grocery|             56.7|             3|\n",
      "|4210653349028689|20180419|123459988|        114|   Entertainment|            59.73|             4|\n",
      "|4210653349028689|20181010|123459988|         93|             Gas|             3.59|             5|\n",
      "|4210653349028689|20180528|123459988|        164|       Education|             6.89|             6|\n",
      "|4210653349028689|20180519|123459988|        119|   Entertainment|            43.39|             7|\n",
      "|4210653349028689|20180808|123459988|         23|             Gas|            95.39|             8|\n",
      "|4210653349028689|20180318|123459988|        166|   Entertainment|            93.26|             9|\n",
      "|4210653349028689|20180903|123459988|         83|           Bills|           100.38|            10|\n",
      "|4210653349028689|20180821|123459988|         52|             Gas|            98.75|            11|\n",
      "|4210653349028689|20181224|123459988|         17|             Gas|            42.71|            12|\n",
      "|4210653349028689|20180403|123459988|         80|         Grocery|            40.24|            13|\n",
      "|4210653349028689|20180415|123459988|         50|           Bills|            17.81|            14|\n",
      "|4210653349028689|20180517|123459988|        123|           Bills|             29.0|            15|\n",
      "|4210653349028689|20180706|123459988|          9|            Test|            70.63|            16|\n",
      "|4210653349028689|20180928|123459988|          3|            Test|            27.04|            17|\n",
      "|4210653349028689|20180704|123459988|        135|   Entertainment|            88.75|            18|\n",
      "|4210653349028689|20180424|123459988|        103|            Test|            77.02|            19|\n",
      "|4210653349028689|20181008|123459988|         78|           Bills|            34.34|            20|\n",
      "+----------------+--------+---------+-----------+----------------+-----------------+--------------+\n",
      "only showing top 20 rows\n",
      "\n"
     ]
    }
   ],
   "source": [
    "CDW_SAPP_CREDIT.write.format(\"jdbc\").options(driver=\"com.mysql.cj.jdbc.Driver\",\\\n",
    "                                user=\"root\",\\\n",
    "                                password=\"password\",\\\n",
    "                                url=\"jdbc:mysql://localhost:3306/creditcard_capstone\",\\\n",
    "                                dbtable=\"creditcard_capstone.CDW_SAPP_CREDIT\").save()\n",
    "\n",
    "CDW_SAPP_CREDIT.show()"
   ]
  }
 ],
 "metadata": {
  "kernelspec": {
   "display_name": "Python 3",
   "language": "python",
   "name": "python3"
  },
  "language_info": {
   "codemirror_mode": {
    "name": "ipython",
    "version": 3
   },
   "file_extension": ".py",
   "mimetype": "text/x-python",
   "name": "python",
   "nbconvert_exporter": "python",
   "pygments_lexer": "ipython3",
   "version": "3.9.6"
  },
  "orig_nbformat": 4,
  "vscode": {
   "interpreter": {
    "hash": "11938c6bc6919ae2720b4d5011047913343b08a43b18698fd82dedb0d4417594"
   }
  }
 },
 "nbformat": 4,
 "nbformat_minor": 2
}
